{
 "cells": [
  {
   "cell_type": "code",
   "execution_count": 8,
   "id": "a92edcf8-f947-4b76-bb9e-796c0f08cb74",
   "metadata": {},
   "outputs": [
    {
     "name": "stdout",
     "output_type": "stream",
     "text": [
      "3\n"
     ]
    }
   ],
   "source": [
    "import arthmeticOp as hadah\n",
    "\n",
    "print(hadah.add(1,2))\n"
   ]
  },
  {
   "cell_type": "code",
   "execution_count": 9,
   "id": "a772bcae-a5f1-42d6-88d8-88fc749d2055",
   "metadata": {},
   "outputs": [
    {
     "data": {
      "text/plain": [
       "1176"
      ]
     },
     "execution_count": 9,
     "metadata": {},
     "output_type": "execute_result"
    }
   ],
   "source": [
    "hadah.multiply(56,21)"
   ]
  },
  {
   "cell_type": "code",
   "execution_count": 10,
   "id": "e5f112b1-230e-4359-984e-45687e5bb43c",
   "metadata": {},
   "outputs": [
    {
     "name": "stdout",
     "output_type": "stream",
     "text": [
      "2025-04-05\n"
     ]
    }
   ],
   "source": [
    "from datetime import date\n",
    "print(date.today())"
   ]
  },
  {
   "cell_type": "code",
   "execution_count": null,
   "id": "a65754d8-dcfd-49b0-98a5-56729302ae00",
   "metadata": {},
   "outputs": [],
   "source": []
  }
 ],
 "metadata": {
  "kernelspec": {
   "display_name": "Python 3 (ipykernel)",
   "language": "python",
   "name": "python3"
  },
  "language_info": {
   "codemirror_mode": {
    "name": "ipython",
    "version": 3
   },
   "file_extension": ".py",
   "mimetype": "text/x-python",
   "name": "python",
   "nbconvert_exporter": "python",
   "pygments_lexer": "ipython3",
   "version": "3.12.4"
  }
 },
 "nbformat": 4,
 "nbformat_minor": 5
}
